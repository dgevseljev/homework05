{
 "cells": [
  {
   "cell_type": "markdown",
   "id": "bec5f790",
   "metadata": {},
   "source": [
    "### 1. Четные индексы"
   ]
  },
  {
   "cell_type": "code",
   "execution_count": 1,
   "id": "66d301b1",
   "metadata": {},
   "outputs": [
    {
     "name": "stdout",
     "output_type": "stream",
     "text": [
      "1 2 3 4 5\n",
      "1 3 5\n"
     ]
    }
   ],
   "source": [
    "print(*input().split()[::2])"
   ]
  },
  {
   "cell_type": "markdown",
   "id": "37fe040e",
   "metadata": {},
   "source": [
    "### 2. Наибольший элемент и его индекс"
   ]
  },
  {
   "cell_type": "code",
   "execution_count": 6,
   "id": "7331c156",
   "metadata": {},
   "outputs": [
    {
     "name": "stdout",
     "output_type": "stream",
     "text": [
      "1 2 3 2 1\n",
      "3 2\n"
     ]
    }
   ],
   "source": [
    "elements = list(map(int, input().split()))\n",
    "print(max(elements), elements.index(max(elements)))"
   ]
  },
  {
   "cell_type": "markdown",
   "id": "6b63966a",
   "metadata": {},
   "source": [
    "### 3. Вывести в обратном порядке"
   ]
  },
  {
   "cell_type": "code",
   "execution_count": 12,
   "id": "0f6b01fa",
   "metadata": {},
   "outputs": [
    {
     "name": "stdout",
     "output_type": "stream",
     "text": [
      "1 2 3 4 5\n",
      "5 4 3 2 1\n"
     ]
    }
   ],
   "source": [
    "print(*input().split()[::-1])"
   ]
  },
  {
   "cell_type": "markdown",
   "id": "40834f53",
   "metadata": {},
   "source": [
    "### 4. Переставить соседние"
   ]
  },
  {
   "cell_type": "code",
   "execution_count": 22,
   "id": "b13341ae",
   "metadata": {},
   "outputs": [
    {
     "name": "stdout",
     "output_type": "stream",
     "text": [
      "1 2 3 4 5\n",
      "2 1 4 3 5\n"
     ]
    }
   ],
   "source": [
    "a = input().split()\n",
    "a[1::2], a[:-1:2] = a[:-1:2], a[1::2]\n",
    "print(*a)"
   ]
  },
  {
   "cell_type": "markdown",
   "id": "346638b2",
   "metadata": {},
   "source": [
    "### 5. Циклический сдвиг вправо"
   ]
  },
  {
   "cell_type": "code",
   "execution_count": 26,
   "id": "036eea9b",
   "metadata": {},
   "outputs": [
    {
     "name": "stdout",
     "output_type": "stream",
     "text": [
      "1 2 3 4 5\n",
      "5 1 2 3 4\n"
     ]
    }
   ],
   "source": [
    "a = input().split()\n",
    "print(*(a[-1::] + a[:-1]))"
   ]
  },
  {
   "cell_type": "markdown",
   "id": "e72aa63d",
   "metadata": {},
   "source": [
    "### 6. Удалить элемент"
   ]
  },
  {
   "cell_type": "code",
   "execution_count": 29,
   "id": "9a592aba",
   "metadata": {},
   "outputs": [
    {
     "name": "stdout",
     "output_type": "stream",
     "text": [
      "7 6 5 4 3 2 1\n",
      "2\n",
      "7 6 4 3 2 1\n"
     ]
    }
   ],
   "source": [
    "a = input().split()\n",
    "index = int(input())\n",
    "print(*a[:index] + a[index+1:]) "
   ]
  },
  {
   "cell_type": "markdown",
   "id": "2c94cd39",
   "metadata": {},
   "source": [
    "### 7. Вставить элемент"
   ]
  },
  {
   "cell_type": "code",
   "execution_count": 38,
   "id": "ef852e29",
   "metadata": {},
   "outputs": [
    {
     "name": "stdout",
     "output_type": "stream",
     "text": [
      "7 6 5 4 3 2 1\n",
      "2 0\n",
      "7 6 0 5 4 3 2 1\n"
     ]
    }
   ],
   "source": [
    "a = input().split()\n",
    "n, elem = map(int, input().split())\n",
    "print(*a[:n] + list(str(elem)) + a[n:]) "
   ]
  },
  {
   "cell_type": "markdown",
   "id": "78da5c8e",
   "metadata": {},
   "source": [
    "### 8. Большой сдвиг"
   ]
  },
  {
   "cell_type": "code",
   "execution_count": 46,
   "id": "e8ba0c8f",
   "metadata": {},
   "outputs": [
    {
     "name": "stdout",
     "output_type": "stream",
     "text": [
      "5 3 7 4 6\n",
      "3\n",
      "7 4 6 5 3\n"
     ]
    }
   ],
   "source": [
    "a, b = input().split(), int(input())\n",
    "print(*(a[-b::] + a[:-b]))"
   ]
  }
 ],
 "metadata": {
  "kernelspec": {
   "display_name": "Python 3 (ipykernel)",
   "language": "python",
   "name": "python3"
  },
  "language_info": {
   "codemirror_mode": {
    "name": "ipython",
    "version": 3
   },
   "file_extension": ".py",
   "mimetype": "text/x-python",
   "name": "python",
   "nbconvert_exporter": "python",
   "pygments_lexer": "ipython3",
   "version": "3.11.2"
  }
 },
 "nbformat": 4,
 "nbformat_minor": 5
}
